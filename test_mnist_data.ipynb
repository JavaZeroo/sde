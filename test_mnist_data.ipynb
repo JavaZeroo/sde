{
 "cells": [
  {
   "cell_type": "code",
   "execution_count": null,
   "metadata": {},
   "outputs": [],
   "source": [
    "import torch\n",
    "import pickle\n",
    "from tqdm import tqdm\n",
    "\n",
    "def calculate_total_mean_std(mean, std):\n",
    "    # 计算drift的总均值和总标准差\n",
    "    total_mean = mean.mean(dim=0)\n",
    "    total_std = torch.sqrt(((std ** 2).mean(dim=0) + (mean - total_mean) ** 2).mean(dim=0))\n",
    "    return total_mean, total_std"
   ]
  },
  {
   "cell_type": "code",
   "execution_count": 1,
   "metadata": {},
   "outputs": [],
   "source": []
  },
  {
   "cell_type": "code",
   "execution_count": 22,
   "metadata": {},
   "outputs": [],
   "source": [
    "def get_total_mean_std():\n",
    "    temp_ds = pickle.loads(open(f'experiments/gaussian2minst/data/new_ds_{int(0)}.pkl', 'rb').read())\n",
    "    ts_mean, ts_std  = temp_ds.metadata['ts']\n",
    "    bridge_mean, bridge_std = temp_ds.metadata['bridge']\n",
    "    drift_mean, drift_std = temp_ds.metadata['drift']\n",
    "    source_mean, source_std = temp_ds.metadata['source']\n",
    "    target_mean, target_std = temp_ds.metadata['target']\n",
    "\n",
    "\n",
    "    all_ts_mean = torch.zeros(60, *ts_mean.shape)\n",
    "    all_ts_std = torch.zeros(60, *ts_std.shape)\n",
    "\n",
    "    all_bridge_mean = torch.zeros(60, *bridge_mean.shape)\n",
    "    all_bridge_std = torch.zeros(60, *bridge_std.shape)\n",
    "\n",
    "    all_drift_mean = torch.zeros(60, *drift_mean.shape)\n",
    "    all_drift_std = torch.zeros(60, *drift_std.shape)\n",
    "\n",
    "    all_source_mean = torch.zeros(60, *source_mean.shape)\n",
    "    all_source_std = torch.zeros(60, *source_std.shape)\n",
    "\n",
    "    all_target_mean = torch.zeros(60, *target_mean.shape)\n",
    "    all_target_std = torch.zeros(60, *target_std.shape)\n",
    "\n",
    "    all_ts_mean[0] = ts_mean\n",
    "    all_ts_std[0] = ts_std\n",
    "\n",
    "    all_bridge_mean[0] = bridge_mean\n",
    "    all_bridge_std[0] = bridge_std\n",
    "\n",
    "    all_drift_mean[0] = drift_mean\n",
    "    all_drift_std[0] = drift_std\n",
    "\n",
    "    all_source_mean[0] = source_mean\n",
    "    all_source_std[0] = source_std\n",
    "\n",
    "    all_target_mean[0] = target_mean\n",
    "    all_target_std[0] = target_std\n",
    "    \n",
    "    for i in tqdm(range(1, 60)):\n",
    "        i_ds = pickle.loads(open(f'experiments/gaussian2minst/data/new_ds_{int(i)}.pkl', 'rb').read())\n",
    "        i_ts_mean, i_ts_std  = i_ds.metadata['ts']\n",
    "        i_bridge_mean, i_bridge_std = i_ds.metadata['bridge']\n",
    "        i_drift_mean, i_drift_std = i_ds.metadata['drift']\n",
    "        i_source_mean, i_source_std = i_ds.metadata['source']\n",
    "        i_target_mean, i_target_std = i_ds.metadata['target']\n",
    "\n",
    "        all_ts_mean[i] = i_ts_mean\n",
    "        all_ts_std[i] = i_ts_std\n",
    "\n",
    "        all_bridge_mean[i] = i_bridge_mean\n",
    "        all_bridge_std[i] = i_bridge_std\n",
    "\n",
    "        all_drift_mean[i] = i_drift_mean\n",
    "        all_drift_std[i] = i_drift_std\n",
    "\n",
    "        all_source_mean[i] = i_source_mean\n",
    "        all_source_std[i] = i_source_std\n",
    "\n",
    "        all_target_mean[i] = i_target_mean\n",
    "        all_target_std[i] = i_target_std\n",
    "        \n",
    "    ret_ts_mean, ret_ts_std = calculate_total_mean_std(all_ts_mean, all_ts_std)\n",
    "    ret_bridge_mean, ret_bridge_std = calculate_total_mean_std(all_bridge_mean, all_bridge_std)\n",
    "    ret_drift_mean, ret_drift_std = calculate_total_mean_std(all_drift_mean, all_drift_std)\n",
    "    ret_source_mean, ret_source_std = calculate_total_mean_std(all_source_mean, all_source_std)\n",
    "    ret_target_mean, ret_target_std = calculate_total_mean_std(all_target_mean, all_target_std)\n",
    "\n",
    "    ret = {\n",
    "        'ts': (ret_ts_mean, ret_ts_std),\n",
    "        'bridge': (ret_bridge_mean, ret_bridge_std),\n",
    "        'drift': (ret_drift_mean, ret_drift_std),\n",
    "        'source': (ret_source_mean, ret_source_std),\n",
    "        'target': (ret_target_mean, ret_target_std),\n",
    "    }\n",
    "    \n",
    "    return ret"
   ]
  },
  {
   "cell_type": "code",
   "execution_count": 23,
   "metadata": {},
   "outputs": [
    {
     "name": "stderr",
     "output_type": "stream",
     "text": [
      "  0%|          | 0/59 [00:00<?, ?it/s]"
     ]
    },
    {
     "name": "stderr",
     "output_type": "stream",
     "text": [
      "100%|██████████| 59/59 [16:33<00:00, 16.84s/it]\n"
     ]
    }
   ],
   "source": []
  },
  {
   "cell_type": "code",
   "execution_count": 10,
   "metadata": {},
   "outputs": [],
   "source": []
  },
  {
   "cell_type": "code",
   "execution_count": 24,
   "metadata": {},
   "outputs": [],
   "source": [
    "ret_ts_mean, ret_ts_std = calculate_total_mean_std(all_ts_mean, all_ts_std)\n",
    "ret_bridge_mean, ret_bridge_std = calculate_total_mean_std(all_bridge_mean, all_bridge_std)\n",
    "ret_drift_mean, ret_drift_std = calculate_total_mean_std(all_drift_mean, all_drift_std)\n",
    "ret_source_mean, ret_source_std = calculate_total_mean_std(all_source_mean, all_source_std)\n",
    "ret_target_mean, ret_target_std = calculate_total_mean_std(all_target_mean, all_target_std)\n",
    "\n",
    "ret = {\n",
    "    'ts': (ret_ts_mean, ret_ts_std),\n",
    "    'bridge': (ret_bridge_mean, ret_bridge_std),\n",
    "    'drift': (ret_drift_mean, ret_drift_std),\n",
    "    'source': (ret_source_mean, ret_source_std),\n",
    "    'target': (ret_target_mean, ret_target_std),\n",
    "}\n",
    "\n",
    "pickle.dump(ret, open('experiments/gaussian2minst/data/mnist_mean_std.pkl', 'wb'))"
   ]
  }
 ],
 "metadata": {
  "kernelspec": {
   "display_name": "sde",
   "language": "python",
   "name": "python3"
  },
  "language_info": {
   "codemirror_mode": {
    "name": "ipython",
    "version": 3
   },
   "file_extension": ".py",
   "mimetype": "text/x-python",
   "name": "python",
   "nbconvert_exporter": "python",
   "pygments_lexer": "ipython3",
   "version": "3.11.4"
  },
  "orig_nbformat": 4
 },
 "nbformat": 4,
 "nbformat_minor": 2
}
