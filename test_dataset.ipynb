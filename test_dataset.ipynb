{
 "cells": [
  {
   "cell_type": "code",
   "execution_count": null,
   "metadata": {},
   "outputs": [],
   "source": [
    "class BBdataset(Dataset):\n",
    "    def __init__(self, data):\n",
    "        self.data = data  \n",
    "        \n",
    "    def __len__(self):\n",
    "        return len(self.data)  \n",
    "    \n",
    "    def __getitem__(self, index):\n",
    "        return self.data[index, :].reshape(1, -1)"
   ]
  }
 ],
 "metadata": {
  "language_info": {
   "name": "python"
  },
  "orig_nbformat": 4
 },
 "nbformat": 4,
 "nbformat_minor": 2
}
